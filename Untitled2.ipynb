{
 "cells": [
  {
   "cell_type": "code",
   "execution_count": 2,
   "id": "3f38ea71-be7e-49a4-aa3c-241d4ea8ed73",
   "metadata": {},
   "outputs": [],
   "source": [
    "import pandas as pd"
   ]
  },
  {
   "cell_type": "code",
   "execution_count": 24,
   "id": "38a20459-1857-4b43-90d8-a5a7c52523c8",
   "metadata": {},
   "outputs": [
    {
     "data": {
      "text/plain": [
       "x    100\n",
       "y    200\n",
       "z    300\n",
       "w    400\n",
       "dtype: int64"
      ]
     },
     "execution_count": 24,
     "metadata": {},
     "output_type": "execute_result"
    }
   ],
   "source": [
    "#Question 1 \n",
    "data = pd.Series([100, 200, 300, 400], index=['x', 'y', 'z', 'w'])\n",
    "data"
   ]
  },
  {
   "cell_type": "code",
   "execution_count": 12,
   "id": "e836a727-22af-44c2-821d-f6cdd4144d99",
   "metadata": {},
   "outputs": [
    {
     "data": {
      "text/plain": [
       "np.int64(200)"
      ]
     },
     "execution_count": 12,
     "metadata": {},
     "output_type": "execute_result"
    }
   ],
   "source": [
    "data.loc['y']"
   ]
  },
  {
   "cell_type": "code",
   "execution_count": 9,
   "id": "6c9007b4-54b9-4922-b799-546be2d9e2ff",
   "metadata": {},
   "outputs": [
    {
     "data": {
      "text/plain": [
       "np.int64(200)"
      ]
     },
     "execution_count": 9,
     "metadata": {},
     "output_type": "execute_result"
    }
   ],
   "source": [
    "# Question 2\n",
    "data = pd.Series([100, 200, 300, 400], index=['x', 'y', 'z', 'w'])\n",
    "data.iloc[1]"
   ]
  },
  {
   "cell_type": "code",
   "execution_count": 11,
   "id": "45b5c3c4-7c28-45e6-afe8-b2dabea37b87",
   "metadata": {},
   "outputs": [
    {
     "data": {
      "text/plain": [
       "y    200\n",
       "w    400\n",
       "dtype: int64"
      ]
     },
     "execution_count": 11,
     "metadata": {},
     "output_type": "execute_result"
    }
   ],
   "source": [
    "# Question 3\n",
    "data = pd.Series([100, 200, 300, 400], index=['x', 'y', 'z', 'w'])\n",
    "data.loc[['y','w']]"
   ]
  },
  {
   "cell_type": "code",
   "execution_count": 13,
   "id": "8e507ce8-2d4b-4c61-8800-aac2b0ca0cf9",
   "metadata": {},
   "outputs": [
    {
     "data": {
      "text/plain": [
       "np.int64(400)"
      ]
     },
     "execution_count": 13,
     "metadata": {},
     "output_type": "execute_result"
    }
   ],
   "source": [
    "# Question 4\n",
    "data = pd.Series([100, 200, 300, 400], index=['x', 'y', 'z', 'w'])\n",
    "data.iloc[3]"
   ]
  },
  {
   "cell_type": "code",
   "execution_count": 14,
   "id": "a8729905-8271-4e4f-b945-05876575fe91",
   "metadata": {},
   "outputs": [
    {
     "data": {
      "text/plain": [
       "y    200\n",
       "z    300\n",
       "dtype: int64"
      ]
     },
     "execution_count": 14,
     "metadata": {},
     "output_type": "execute_result"
    }
   ],
   "source": [
    "# Question 5\n",
    "data = pd.Series([100, 200, 300, 400], index=['x', 'y', 'z', 'w'])\n",
    "data.loc['y':'z']"
   ]
  },
  {
   "cell_type": "code",
   "execution_count": 21,
   "id": "40c7cc83-0392-422d-825b-732c9258ae92",
   "metadata": {},
   "outputs": [
    {
     "data": {
      "text/plain": [
       "np.int64(300)"
      ]
     },
     "execution_count": 21,
     "metadata": {},
     "output_type": "execute_result"
    }
   ],
   "source": [
    "# Question 6\n",
    "series1 = pd.Series([100, 200, 300, 400], index=[1, 2, 3, 4])\n",
    "series1.iloc[2] #iloc[] is used to access the series through the position of elements in the list"
   ]
  },
  {
   "cell_type": "code",
   "execution_count": 22,
   "id": "148dee0e-ffc3-4e1b-9545-f69fcb5fc262",
   "metadata": {},
   "outputs": [
    {
     "data": {
      "text/plain": [
       "np.int64(200)"
      ]
     },
     "execution_count": 22,
     "metadata": {},
     "output_type": "execute_result"
    }
   ],
   "source": [
    "series1 = pd.Series([100, 200, 300, 400], index=[1, 2, 3, 4])\n",
    "series1.loc[2] #loc[] is used to access the series through the labels of elements in the list"
   ]
  },
  {
   "cell_type": "code",
   "execution_count": 23,
   "id": "3fcfd7c7-cfcd-4d19-909c-c42d7dcadf2c",
   "metadata": {},
   "outputs": [
    {
     "data": {
      "text/plain": [
       "np.int64(100)"
      ]
     },
     "execution_count": 23,
     "metadata": {},
     "output_type": "execute_result"
    }
   ],
   "source": [
    "# Question 7\n",
    "data = pd.Series([100, 200, 300, 400], index=['x', 'y', 'z', 'w'])\n",
    "data.x"
   ]
  },
  {
   "cell_type": "code",
   "execution_count": null,
   "id": "63a863e6-dac2-4c00-bfa9-748261ed1e5b",
   "metadata": {},
   "outputs": [],
   "source": []
  }
 ],
 "metadata": {
  "kernelspec": {
   "display_name": "Python 3 (ipykernel)",
   "language": "python",
   "name": "python3"
  },
  "language_info": {
   "codemirror_mode": {
    "name": "ipython",
    "version": 3
   },
   "file_extension": ".py",
   "mimetype": "text/x-python",
   "name": "python",
   "nbconvert_exporter": "python",
   "pygments_lexer": "ipython3",
   "version": "3.11.9"
  }
 },
 "nbformat": 4,
 "nbformat_minor": 5
}
