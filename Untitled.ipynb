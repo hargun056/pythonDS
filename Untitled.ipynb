{
 "cells": [
  {
   "cell_type": "code",
   "execution_count": 3,
   "id": "a8575e83-4868-4824-80a7-f459eadac372",
   "metadata": {},
   "outputs": [],
   "source": [
    "import regex"
   ]
  },
  {
   "cell_type": "code",
   "execution_count": 6,
   "id": "2b4b3e0e-2c67-42da-b48f-1489016dbfa7",
   "metadata": {},
   "outputs": [
    {
     "name": "stdin",
     "output_type": "stream",
     "text": [
      "Enter your password:  Hargun_0056\n"
     ]
    }
   ],
   "source": [
    "pwd=input(\"Enter your password: \")"
   ]
  },
  {
   "cell_type": "code",
   "execution_count": 4,
   "id": "c3a2835b-9f44-4449-97c4-869a491d28b3",
   "metadata": {},
   "outputs": [],
   "source": [
    "pat='(?=.*[a-z])(?=.*[A-Z])(?=.*\\d)(?=.*[@$!%*?&^#()_+=-]).{8,}'"
   ]
  },
  {
   "cell_type": "code",
   "execution_count": 7,
   "id": "533edd9d-0548-4eaf-97c6-1913e6f706e0",
   "metadata": {},
   "outputs": [
    {
     "name": "stdout",
     "output_type": "stream",
     "text": [
      "Strong password\n"
     ]
    }
   ],
   "source": [
    "if regex.match(pat,pwd)==None:\n",
    "    print(\"Weak password\")\n",
    "else:\n",
    "    print(\"Strong password\")"
   ]
  },
  {
   "cell_type": "code",
   "execution_count": null,
   "id": "544802e7-1e55-4e4f-b1e8-21237487d3ff",
   "metadata": {},
   "outputs": [],
   "source": []
  }
 ],
 "metadata": {
  "kernelspec": {
   "display_name": "Python 3 (ipykernel)",
   "language": "python",
   "name": "python3"
  },
  "language_info": {
   "codemirror_mode": {
    "name": "ipython",
    "version": 3
   },
   "file_extension": ".py",
   "mimetype": "text/x-python",
   "name": "python",
   "nbconvert_exporter": "python",
   "pygments_lexer": "ipython3",
   "version": "3.11.9"
  }
 },
 "nbformat": 4,
 "nbformat_minor": 5
}
